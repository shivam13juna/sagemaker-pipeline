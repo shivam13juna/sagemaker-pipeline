{
 "cells": [
  {
   "cell_type": "markdown",
   "id": "5390e1d2-7c89-46a7-83ff-218659989a6f",
   "metadata": {},
   "source": [
    "# Evaluating Model"
   ]
  },
  {
   "cell_type": "code",
   "execution_count": 2,
   "id": "2c7e2fdd-f670-440a-8aac-2aa89630c7ef",
   "metadata": {},
   "outputs": [
    {
     "name": "stderr",
     "output_type": "stream",
     "text": [
      "ERROR: pip's dependency resolver does not currently take into account all the packages that are installed. This behaviour is the source of the following dependency conflicts.\n",
      "torcheia 1.0.0 requires torch==1.5.1, but you have torch 1.13.1 which is incompatible.\n",
      "sagemaker 2.127.0 requires boto3<2.0,>=1.26.28, but you have boto3 1.17.106 which is incompatible.\n",
      "docker-compose 1.29.2 requires PyYAML<6,>=3.10, but you have pyyaml 6.0 which is incompatible.\n",
      "awscli 1.27.44 requires botocore==1.29.44, but you have botocore 1.20.106 which is incompatible.\n",
      "awscli 1.27.44 requires PyYAML<5.5,>=3.10, but you have pyyaml 6.0 which is incompatible.\n",
      "awscli 1.27.44 requires s3transfer<0.7.0,>=0.6.0, but you have s3transfer 0.4.2 which is incompatible.\n"
     ]
    }
   ],
   "source": [
    "%%sh\n",
    "\n",
    "pip3 install -r requirements.txt --quiet\n"
   ]
  },
  {
   "cell_type": "code",
   "execution_count": 5,
   "id": "e6dbd7dd-d16e-454a-aa55-84bd24a57d67",
   "metadata": {},
   "outputs": [],
   "source": [
    "from typing import Any, Dict, Optional, Tuple\n",
    "\n",
    "import os\n",
    "import subprocess\n",
    "import torch\n",
    "import json\n",
    "import tarfile\n",
    "\n",
    "import pytorch_lightning as pl\n",
    "import torchvision.transforms as T\n",
    "import torch.nn.functional as F\n",
    "\n",
    "from pathlib import Path\n",
    "from torchvision.datasets import ImageFolder\n",
    "from pytorch_lightning.plugins.environments import LightningEnvironment\n",
    "from torch.utils.data import DataLoader, Dataset\n",
    "from torchmetrics.functional import accuracy\n",
    "from pytorch_lightning import loggers as pl_loggers\n",
    "from datetime import datetime\n",
    "\n",
    "from scripts.model import LitResnet\n",
    "from scripts.dataset import IntelCapstoneDataModule"
   ]
  },
  {
   "cell_type": "code",
   "execution_count": 12,
   "id": "5a973cbe-3721-42c1-b66d-f8c0b08df268",
   "metadata": {},
   "outputs": [],
   "source": [
    "def eval_model(trainer, model, datamodule):\n",
    "    test_res = trainer.test(model, datamodule)[0]\n",
    "    \n",
    "    report_dict = {\n",
    "        \"multiclass_classification_metrics\": {\n",
    "            \"accuracy\": {\n",
    "                \"value\": test_res[\"test/acc\"],\n",
    "                \"standard_deviation\": \"0\",\n",
    "            },\n",
    "        },\n",
    "    }\n",
    "    \n",
    "    eval_folder = Path(\"tmp\")\n",
    "    \n",
    "    out_path = eval_folder / \"evaluation.json\"\n",
    "    \n",
    "    print(f\":: Writing to {out_path.absolute()}\")\n",
    "    \n",
    "    with out_path.open(\"w\") as f:\n",
    "        f.write(json.dumps(report_dict))\n",
    "        "
   ]
  },
  {
   "cell_type": "code",
   "execution_count": 13,
   "id": "4207187f-a923-434b-8e0a-f77177986981",
   "metadata": {},
   "outputs": [
    {
     "name": "stderr",
     "output_type": "stream",
     "text": [
      "GPU available: False, used: False\n",
      "TPU available: False, using: 0 TPU cores\n",
      "IPU available: False, using: 0 IPUs\n",
      "HPU available: False, using: 0 HPUs\n"
     ]
    },
    {
     "name": "stdout",
     "output_type": "stream",
     "text": [
      ":: Evaluating Model\n"
     ]
    },
    {
     "data": {
      "application/vnd.jupyter.widget-view+json": {
       "model_id": "678bebdc451d4ecdab68694e6688e271",
       "version_major": 2,
       "version_minor": 0
      },
      "text/plain": [
       "Testing: 0it [00:00, ?it/s]"
      ]
     },
     "metadata": {},
     "output_type": "display_data"
    },
    {
     "data": {
      "text/html": [
       "<pre style=\"white-space:pre;overflow-x:auto;line-height:normal;font-family:Menlo,'DejaVu Sans Mono',consolas,'Courier New',monospace\">┏━━━━━━━━━━━━━━━━━━━━━━━━━━━┳━━━━━━━━━━━━━━━━━━━━━━━━━━━┓\n",
       "┃<span style=\"font-weight: bold\">        Test metric        </span>┃<span style=\"font-weight: bold\">       DataLoader 0        </span>┃\n",
       "┡━━━━━━━━━━━━━━━━━━━━━━━━━━━╇━━━━━━━━━━━━━━━━━━━━━━━━━━━┩\n",
       "│<span style=\"color: #008080; text-decoration-color: #008080\">         test/acc          </span>│<span style=\"color: #800080; text-decoration-color: #800080\">    0.7053298950195312     </span>│\n",
       "│<span style=\"color: #008080; text-decoration-color: #008080\">         test/loss         </span>│<span style=\"color: #800080; text-decoration-color: #800080\">    0.7563663721084595     </span>│\n",
       "└───────────────────────────┴───────────────────────────┘\n",
       "</pre>\n"
      ],
      "text/plain": [
       "┏━━━━━━━━━━━━━━━━━━━━━━━━━━━┳━━━━━━━━━━━━━━━━━━━━━━━━━━━┓\n",
       "┃\u001b[1m \u001b[0m\u001b[1m       Test metric       \u001b[0m\u001b[1m \u001b[0m┃\u001b[1m \u001b[0m\u001b[1m      DataLoader 0       \u001b[0m\u001b[1m \u001b[0m┃\n",
       "┡━━━━━━━━━━━━━━━━━━━━━━━━━━━╇━━━━━━━━━━━━━━━━━━━━━━━━━━━┩\n",
       "│\u001b[36m \u001b[0m\u001b[36m        test/acc         \u001b[0m\u001b[36m \u001b[0m│\u001b[35m \u001b[0m\u001b[35m   0.7053298950195312    \u001b[0m\u001b[35m \u001b[0m│\n",
       "│\u001b[36m \u001b[0m\u001b[36m        test/loss        \u001b[0m\u001b[36m \u001b[0m│\u001b[35m \u001b[0m\u001b[35m   0.7563663721084595    \u001b[0m\u001b[35m \u001b[0m│\n",
       "└───────────────────────────┴───────────────────────────┘\n"
      ]
     },
     "metadata": {},
     "output_type": "display_data"
    },
    {
     "name": "stdout",
     "output_type": "stream",
     "text": [
      ":: Writing to /home/ec2-user/SageMaker/sagemaker-pipeline/capstone/tmp/evaluation.json\n"
     ]
    }
   ],
   "source": [
    "\n",
    "model_path = \"tmp/model.tar.gz\"\n",
    "with tarfile.open(model_path) as tar:\n",
    "    tar.extractall(path=\".\")\n",
    "\n",
    "datamodule = IntelCapstoneDataModule(\n",
    "    train_data_dir='test/',\n",
    "    test_data_dir='test/',\n",
    "    num_workers=os.cpu_count(),\n",
    "    albumentations = '{}'\n",
    ")\n",
    "datamodule.setup()\n",
    "\n",
    "model = LitResnet.load_from_checkpoint(checkpoint_path=\"last.ckpt\")\n",
    "\n",
    "trainer = pl.Trainer(\n",
    "    accelerator=\"auto\",\n",
    ")\n",
    "\n",
    "print(\":: Evaluating Model\")\n",
    "eval_model(trainer, model, datamodule)"
   ]
  }
 ],
 "metadata": {
  "kernelspec": {
   "display_name": "conda_amazonei_pytorch_latest_p37",
   "language": "python",
   "name": "conda_amazonei_pytorch_latest_p37"
  },
  "language_info": {
   "codemirror_mode": {
    "name": "ipython",
    "version": 3
   },
   "file_extension": ".py",
   "mimetype": "text/x-python",
   "name": "python",
   "nbconvert_exporter": "python",
   "pygments_lexer": "ipython3",
   "version": "3.7.13"
  }
 },
 "nbformat": 4,
 "nbformat_minor": 5
}
