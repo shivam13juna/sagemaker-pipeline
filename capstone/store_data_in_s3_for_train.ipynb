{
 "cells": [
  {
   "cell_type": "code",
   "execution_count": 11,
   "id": "f1756353-49c5-4c06-9395-eca4d71bb497",
   "metadata": {},
   "outputs": [],
   "source": [
    "import os\n",
    "import argparse\n",
    "import sys\n",
    "import subprocess\n",
    "import glob\n",
    "import shutil\n",
    "# import dvc.api\n",
    "\n",
    "from collections import Counter\n",
    "# from git.repo.base import Repo\n",
    "\n",
    "from scripts.utils import extract_archive\n",
    "from sklearn.model_selection import train_test_split\n",
    "from pathlib import Path\n",
    "\n",
    "ml_root = Path(\"/home/ec2-user/SageMaker/sagemaker-pipeline/capstone/\")"
   ]
  },
  {
   "cell_type": "code",
   "execution_count": 14,
   "id": "21784fdb-f115-4858-b71e-f4570014d131",
   "metadata": {},
   "outputs": [],
   "source": [
    "def write_dataset(image_paths, output_dir):\n",
    "    for img_path in image_paths:\n",
    "        Path(output_dir / img_path.parent.stem).mkdir(parents=True, exist_ok=True)\n",
    "        shutil.copyfile(img_path, output_dir / img_path.parent.stem / img_path.name)\n"
   ]
  },
  {
   "cell_type": "code",
   "execution_count": 12,
   "id": "82ceb328-f481-4791-889f-f4e1ed3a3fce",
   "metadata": {},
   "outputs": [
    {
     "name": "stdout",
     "output_type": "stream",
     "text": [
      ":: Extracting Zip /home/ec2-user/SageMaker/sagemaker-pipeline/capstone/datasets/intel_s12.zip to /home/ec2-user/SageMaker/sagemaker-pipeline/capstone/tmp\n",
      ":: Dataset Class Counts:  Counter({'mountain': 3037, 'glacier': 2957, 'street': 2883, 'sea': 2784, 'forest': 2745, 'buildings': 2628})\n",
      "\t:: Train Dataset Class Counts:  Counter({'mountain': 2277, 'glacier': 2218, 'street': 2162, 'sea': 2088, 'forest': 2059, 'buildings': 1971})\n",
      "\t:: Test Dataset Class Counts:  Counter({'mountain': 760, 'glacier': 739, 'street': 721, 'sea': 696, 'forest': 686, 'buildings': 657})\n"
     ]
    }
   ],
   "source": [
    "dataset_extracted = ml_root / \"tmp\"\n",
    "dataset_extracted.mkdir(parents=True, exist_ok=True)\n",
    "\n",
    "# split dataset and save to their directories\n",
    "dataset_zip = ml_root / \"datasets/intel_s12.zip\"\n",
    "print(f\":: Extracting Zip {dataset_zip} to {dataset_extracted}\")\n",
    "extract_archive(\n",
    "    from_path=dataset_zip,\n",
    "    to_path=dataset_extracted\n",
    ")\n",
    "\n",
    "dataset_full = list(dataset_extracted.glob(\"*/*/*/*.jpg\"))\n",
    "labels = [x.parent.stem for x in dataset_full]\n",
    "\n",
    "print(\":: Dataset Class Counts: \", Counter(labels))\n",
    "\n",
    "\n",
    "d_train = list((dataset_extracted / \"seg_train\" / \"seg_train\").glob(\"*/*.jpg\"))\n",
    "d_test = list((dataset_extracted / \"seg_test\" / \"seg_test\").glob(\"*/*.jpg\"))\n",
    "\n",
    "d_train, d_test = train_test_split(dataset_full, stratify=labels)\n",
    "\n",
    "print(\"\\t:: Train Dataset Class Counts: \", Counter(x.parent.stem for x in d_train))\n",
    "print(\"\\t:: Test Dataset Class Counts: \", Counter(x.parent.stem for x in d_test))"
   ]
  },
  {
   "cell_type": "code",
   "execution_count": 15,
   "id": "12899dcd-034d-46b6-b361-f43ccad08dad",
   "metadata": {},
   "outputs": [
    {
     "name": "stdout",
     "output_type": "stream",
     "text": [
      "\t:: Creating Directory /home/ec2-user/SageMaker/sagemaker-pipeline/capstone/datasets/train\n",
      "\t:: Creating Directory /home/ec2-user/SageMaker/sagemaker-pipeline/capstone/datasets/test\n",
      ":: Writing Datasets\n"
     ]
    }
   ],
   "source": [
    "for path in ['train', 'test']:\n",
    "    output_dir = ml_root / \"datasets\" / path\n",
    "    print(f\"\\t:: Creating Directory {output_dir}\")\n",
    "    output_dir.mkdir(parents=True, exist_ok=True)\n",
    "\n",
    "print(\":: Writing Datasets\")\n",
    "write_dataset(d_train, ml_root / \"datasets\" / \"train\")\n",
    "write_dataset(d_test, ml_root / \"datasets\" / \"test\")"
   ]
  },
  {
   "cell_type": "code",
   "execution_count": null,
   "id": "def163bf-396f-4383-8a6c-f7ea234bc181",
   "metadata": {},
   "outputs": [],
   "source": []
  },
  {
   "cell_type": "code",
   "execution_count": null,
   "id": "bd08148a-9a71-48fc-9c65-a12533eb128e",
   "metadata": {},
   "outputs": [],
   "source": []
  },
  {
   "cell_type": "code",
   "execution_count": null,
   "id": "7cdf9ccd-71cc-423b-b94a-a1cb37066398",
   "metadata": {},
   "outputs": [],
   "source": []
  }
 ],
 "metadata": {
  "kernelspec": {
   "display_name": "conda_pytorch_p39",
   "language": "python",
   "name": "conda_pytorch_p39"
  },
  "language_info": {
   "codemirror_mode": {
    "name": "ipython",
    "version": 3
   },
   "file_extension": ".py",
   "mimetype": "text/x-python",
   "name": "python",
   "nbconvert_exporter": "python",
   "pygments_lexer": "ipython3",
   "version": "3.9.13"
  }
 },
 "nbformat": 4,
 "nbformat_minor": 5
}
